### PCA, LSA, pLSA, LDA 코드작성
